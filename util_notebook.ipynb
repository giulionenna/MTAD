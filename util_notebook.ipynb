{
 "cells": [
  {
   "cell_type": "code",
   "execution_count": 3,
   "metadata": {},
   "outputs": [
    {
     "name": "stdout",
     "output_type": "stream",
     "text": [
      "removing anomalies from training data\n"
     ]
    }
   ],
   "source": [
    "import pandas as pd\n",
    "from os import listdir, makedirs, path\n",
    "from pickle import dump\n",
    "\n",
    "train_test_split=0.7\n",
    "scaler = 'minmax'\n",
    "wd = 'C:/Users/g.nenna/Documents/GitHub/MTAD/'\n",
    "swat = pd.read_csv( path.join(wd, 'data/SWAT/SWaT_Dataset_Attack_v0.csv'))\n",
    "swat = swat.drop(' Timestamp', axis=1)\n",
    "\n",
    "# if args.cut < 1:\n",
    "#     print('Cutting the dataset at ' + str(args.cut) + ' length \\n')\n",
    "#     swat = swat.iloc[:int(len(swat)*args.cut)]\n",
    "# sample_rate = args.resample_rate\n",
    "# if sample_rate<=0 or sample_rate>1:\n",
    "#     print('Incorrect resample rate, defaulting to 1\\n')\n",
    "#     sample_rate = 1\n",
    "# else:\n",
    "#     print('resampling to one observation every '+ str(int(1/sample_rate)))\n",
    "\n",
    "\n",
    "# swat = swat.iloc[::int(1/sample_rate)]#resampling\n",
    "labels = (swat['Normal/Attack'].values=='Attack')\n",
    "values = swat.drop('Normal/Attack', axis=1).values\n",
    "\n",
    "\n",
    "if scaler == 'quantile':\n",
    "    from sklearn.preprocessing  import QuantileTransformer\n",
    "    scaler = QuantileTransformer(output_distribution='normal')\n",
    "else:\n",
    "    from sklearn.preprocessing  import MinMaxScaler\n",
    "    scaler = MinMaxScaler()\n",
    "\n",
    "values = scaler.fit_transform(values) \n",
    "#spectral residual data cleaning\n",
    "# if args.spectral_residual:\n",
    "#     for i in range(values.shape[1]):\n",
    "#         values[:,i] = spectral_residual_replace(values[:,i])\n",
    "\n",
    "train_values = values[:int(train_test_split*len(labels)),:]\n",
    "train_labels = labels[:int(train_test_split*len(labels))]\n",
    "\n",
    "print('removing anomalies from training data')\n",
    "train_values = train_values[train_labels==False]\n",
    "\n",
    "test_values = values[int(train_test_split*len(labels)):,:]\n",
    "test_labels = labels[int(train_test_split*len(labels)):]\n",
    "\n",
    "#dump train values into file\n",
    "makedirs(wd+'data/SWAT/processed', exist_ok=True)\n",
    "path_pkl = path.join(wd, 'data/SWAT/processed/SWAT_train.pkl')\n",
    "with open(path_pkl, 'wb') as file:\n",
    "    dump(train_values, file)\n",
    "\n",
    "\n",
    "\n",
    "#dump test values into file\n",
    "path_pkl = path.join(wd, 'data/SWAT/processed/SWAT_test.pkl')\n",
    "with open(path_pkl, 'wb') as file:\n",
    "    dump(test_values, file)\n",
    "\n",
    "\n",
    "#dump test labels into file\n",
    "path_pkl = path.join(wd, 'data/SWAT/processed/SWAT_test_label.pkl')\n",
    "with open(path_pkl, 'wb') as file:\n",
    "    dump(test_labels, file)"
   ]
  },
  {
   "cell_type": "code",
   "execution_count": 7,
   "metadata": {},
   "outputs": [
    {
     "ename": "TypeError",
     "evalue": "a bytes-like object is required, not 'str'",
     "output_type": "error",
     "traceback": [
      "\u001b[1;31m---------------------------------------------------------------------------\u001b[0m",
      "\u001b[1;31mTypeError\u001b[0m                                 Traceback (most recent call last)",
      "\u001b[1;32mc:\\Users\\g.nenna\\Documents\\GitHub\\MTAD\\util_notebook.ipynb Cell 2\u001b[0m line \u001b[0;36m4\n\u001b[0;32m      <a href='vscode-notebook-cell:/c%3A/Users/g.nenna/Documents/GitHub/MTAD/util_notebook.ipynb#W1sZmlsZQ%3D%3D?line=0'>1</a>\u001b[0m \u001b[39mimport\u001b[39;00m \u001b[39mpickle\u001b[39;00m\n\u001b[0;32m      <a href='vscode-notebook-cell:/c%3A/Users/g.nenna/Documents/GitHub/MTAD/util_notebook.ipynb#W1sZmlsZQ%3D%3D?line=2'>3</a>\u001b[0m \u001b[39mwith\u001b[39;00m \u001b[39mopen\u001b[39m(\u001b[39m'\u001b[39m\u001b[39mC:/Users/g.nenna/Documents/GitHub/MTAD/data/SMD/machine-1-1_train.pkl\u001b[39m\u001b[39m'\u001b[39m, \u001b[39m'\u001b[39m\u001b[39mr\u001b[39m\u001b[39m'\u001b[39m) \u001b[39mas\u001b[39;00m file:\n\u001b[1;32m----> <a href='vscode-notebook-cell:/c%3A/Users/g.nenna/Documents/GitHub/MTAD/util_notebook.ipynb#W1sZmlsZQ%3D%3D?line=3'>4</a>\u001b[0m     loaded_object \u001b[39m=\u001b[39m pickle\u001b[39m.\u001b[39;49mload(file)\n",
      "\u001b[1;31mTypeError\u001b[0m: a bytes-like object is required, not 'str'"
     ]
    }
   ],
   "source": [
    "import pickle\n",
    "\n",
    "with open('C:/Users/g.nenna/Documents/GitHub/MTAD/data/SMD/machine-1-1_train.pkl', 'r') as file:\n",
    "    loaded_object = pickle.load(file)\n"
   ]
  }
 ],
 "metadata": {
  "kernelspec": {
   "display_name": "MTAD",
   "language": "python",
   "name": "python3"
  },
  "language_info": {
   "codemirror_mode": {
    "name": "ipython",
    "version": 3
   },
   "file_extension": ".py",
   "mimetype": "text/x-python",
   "name": "python",
   "nbconvert_exporter": "python",
   "pygments_lexer": "ipython3",
   "version": "3.11.0"
  }
 },
 "nbformat": 4,
 "nbformat_minor": 2
}
